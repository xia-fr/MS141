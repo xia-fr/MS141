{
 "cells": [
  {
   "cell_type": "markdown",
   "metadata": {},
   "source": [
    "# MS 141 Lecture 4 (Part 2)\n",
    "# SciPy"
   ]
  },
  {
   "cell_type": "code",
   "execution_count": null,
   "metadata": {},
   "outputs": [],
   "source": [
    "# embed plots within the notebook\n",
    "%matplotlib inline\n",
    "import numpy as np\n",
    "import matplotlib.pyplot as plt"
   ]
  },
  {
   "cell_type": "markdown",
   "metadata": {},
   "source": [
    "The SciPy library can be employed for a wide range of problems, including:\n",
    "\n",
    "* Integration ([scipy.integrate](http://docs.scipy.org/doc/scipy/reference/integrate.html))\n",
    "* Differential equations ([spipy.integrate.ode](https://docs.scipy.org/doc/scipy/reference/generated/scipy.integrate.ode.html))\n",
    "* Linear algebra ([scipy.linalg](http://docs.scipy.org/doc/scipy/reference/linalg.html))\n",
    "* Optimization ([scipy.optimize](http://docs.scipy.org/doc/scipy/reference/optimize.html))\n",
    "* Interpolation ([scipy.interpolate](http://docs.scipy.org/doc/scipy/reference/interpolate.html))\n",
    "* Statistics ([scipy.stats](http://docs.scipy.org/doc/scipy/reference/stats.html))\n",
    "\n",
    "We will discuss examples of how to use a few of these subpackages.<br> \n",
    "We begin by importing everything from the `scipy` module."
   ]
  },
  {
   "cell_type": "code",
   "execution_count": null,
   "metadata": {},
   "outputs": [],
   "source": [
    "from scipy import *"
   ]
  },
  {
   "cell_type": "markdown",
   "metadata": {},
   "source": [
    "If we only need to use part of SciPy, we can import only the modules we are interested in.<br> \n",
    "For example, we can import only the linear algebra package, under the name `la`:"
   ]
  },
  {
   "cell_type": "code",
   "execution_count": null,
   "metadata": {},
   "outputs": [],
   "source": [
    "import scipy.linalg as la"
   ]
  },
  {
   "cell_type": "markdown",
   "metadata": {},
   "source": [
    "## Numerical Integration"
   ]
  },
  {
   "cell_type": "markdown",
   "metadata": {},
   "source": [
    "Numerical evaluation of an integral over one variable:\n",
    "\n",
    "$\\displaystyle \\int_a^b f(x)\\, dx$\n",
    "\n",
    "This numerical integration is called *numerical quadrature* (or simply *quadrature*).<br>\n",
    "SciPy can carry out quadrature using `quad`, `dblquad` and `tplquad` for single, double and triple integrals, respectively."
   ]
  },
  {
   "cell_type": "code",
   "execution_count": null,
   "metadata": {},
   "outputs": [],
   "source": [
    "from scipy.integrate import quad, dblquad, tplquad"
   ]
  },
  {
   "cell_type": "markdown",
   "metadata": {},
   "source": [
    "Here is a simple example"
   ]
  },
  {
   "cell_type": "code",
   "execution_count": null,
   "metadata": {},
   "outputs": [],
   "source": [
    "# define a simple function for the integrand\n",
    "def f(x):\n",
    "    return x**2\n",
    "\n",
    "a = 0 # lower limit of x\n",
    "b = 1 # upper limit of x\n",
    "\n",
    "val, abserr = quad(f, a, b) # a tuple with two entries, (integral value, error)\n",
    "\n",
    "print (\"integral value =\", val, \", absolute error =\", abserr)"
   ]
  },
  {
   "cell_type": "markdown",
   "metadata": {},
   "source": [
    "A more compact form can be achieved with the `lambda` function definition"
   ]
  },
  {
   "cell_type": "code",
   "execution_count": null,
   "metadata": {},
   "outputs": [],
   "source": [
    "# one-line integral with python\n",
    "val, abserr = quad(lambda x: x ** 2, 0,1)\n",
    "print (val, abserr)"
   ]
  },
  {
   "cell_type": "markdown",
   "metadata": {},
   "source": [
    "We can also integrate out to infinity. Here is an example for the well-known Gaussian integral:"
   ]
  },
  {
   "cell_type": "code",
   "execution_count": null,
   "metadata": {},
   "outputs": [],
   "source": [
    "val, abserr = quad(lambda x: exp(-x ** 2), -Inf, Inf)\n",
    "print (\"numerical result =\", val, abserr)\n",
    "print (\"analytic result = \", sqrt(pi))"
   ]
  },
  {
   "cell_type": "markdown",
   "metadata": {},
   "source": [
    "Higher-dimensional integration works in a similar way:"
   ]
  },
  {
   "cell_type": "code",
   "execution_count": null,
   "metadata": {},
   "outputs": [],
   "source": [
    "def integrand(x, y):\n",
    "    return exp(-x**2-y**2)\n",
    "\n",
    "x_lower = -Inf  \n",
    "x_upper = Inf\n",
    "y_lower = -Inf\n",
    "y_upper = Inf\n",
    "\n",
    "val, abserr = dblquad(integrand, x_lower, x_upper, y_lower, y_upper)\n",
    "print (val, abserr)"
   ]
  },
  {
   "cell_type": "markdown",
   "metadata": {},
   "source": [
    "## Solving Ordinary Differential Equations (ODEs)"
   ]
  },
  {
   "cell_type": "markdown",
   "metadata": {},
   "source": [
    "Later in the course, we will discuss approaches to solve ODEs, using which we can write our own ODE solvers.<br> \n",
    "SciPy however provides two versatile tools for solving ODEs, one is the function `odeint`, \n",
    "and the other is the class `ode`.<br> \n",
    "Typically `odeint` is easier to use, but `ode` offers better control.<br> \n",
    "A more recent option is the package `solve_ivp`, which adds new functionalities for initial value problems.<br>\n",
    "\n",
    "Let us import `odeint` from the `scipy.integrate` module. "
   ]
  },
  {
   "cell_type": "code",
   "execution_count": null,
   "metadata": {},
   "outputs": [],
   "source": [
    "from scipy.integrate import odeint"
   ]
  },
  {
   "cell_type": "markdown",
   "metadata": {},
   "source": [
    "We can solve a simple first-order ODE:\n",
    "$$ \\frac{dy}{dx} = -y, \\hspace{20pt} y(0)=1$$\n",
    "As you can verify, this has a closed form solution\n",
    "$$ y (x)= e^{-x}$$\n",
    "Let's solve it numerically using `odeint` (see the [documentation](https://docs.scipy.org/doc/scipy/reference/generated/scipy.integrate.odeint.html))."
   ]
  },
  {
   "cell_type": "code",
   "execution_count": null,
   "metadata": {},
   "outputs": [],
   "source": [
    "# Define a function that calculates the derivative\n",
    "def dy_dx(y, x):\n",
    "    return -y\n",
    "\n",
    "xs = np.linspace(0,5,100)\n",
    "y0 = 1.0  # the initial condition\n",
    "\n",
    "ys = odeint(dy_dx, y0, xs) \n",
    "# optional: print it out (ys is a 2D numpy array)\n",
    "# print(ys[:,0])\n",
    "\n",
    "# for comparison, generate the analytic solution at a few points\n",
    "xexact = np.linspace(0,5,20)\n",
    "yexact = np.exp(-xexact)"
   ]
  },
  {
   "cell_type": "code",
   "execution_count": null,
   "metadata": {},
   "outputs": [],
   "source": [
    "# Plot and compare the numerical and analytic solutions\n",
    "plt.xlabel(\"x\")\n",
    "plt.ylabel(\"y\")\n",
    "plt.plot(xs, ys,lw=2, label='numerical')\n",
    "plt.plot (xexact,yexact,'ro', label='exact')\n",
    "plt.legend()\n",
    "plt.show();"
   ]
  },
  {
   "cell_type": "markdown",
   "metadata": {},
   "source": [
    "We'll see more examples of ODEs later in the course."
   ]
  },
  {
   "cell_type": "markdown",
   "metadata": {},
   "source": [
    "## Linear algebra"
   ]
  },
  {
   "cell_type": "markdown",
   "metadata": {},
   "source": [
    "The SciPy [linear algebra](http://docs.scipy.org/doc/scipy/reference/linalg.html) module contains matrix related functions. It can solve linear systems of equations and eigenvalue problems<br> using a range of decompositions (LU, Cholesky, SVD) and methods implemented in LAPACK.<br> \n",
    "It can also compute matrix functions such as the trace, determinant, characteristic equation, etc.<br>\n",
    "Let's import the module and discuss a few examples."
   ]
  },
  {
   "cell_type": "code",
   "execution_count": null,
   "metadata": {},
   "outputs": [],
   "source": [
    "import scipy.linalg as la"
   ]
  },
  {
   "cell_type": "markdown",
   "metadata": {},
   "source": [
    "### Matrix operations"
   ]
  },
  {
   "cell_type": "code",
   "execution_count": null,
   "metadata": {},
   "outputs": [],
   "source": [
    "M = np.array([[1,2],[0,1]])\n",
    "print (M)"
   ]
  },
  {
   "cell_type": "code",
   "execution_count": null,
   "metadata": {},
   "outputs": [],
   "source": [
    "# compute the determinant of M\n",
    "la.det(M)"
   ]
  },
  {
   "cell_type": "code",
   "execution_count": null,
   "metadata": {},
   "outputs": [],
   "source": [
    "# compute the inverse of M\n",
    "Minv = la.inv(M)\n",
    "print (Minv)"
   ]
  },
  {
   "cell_type": "code",
   "execution_count": null,
   "metadata": {},
   "outputs": [],
   "source": [
    "# check the inverse\n",
    "print (M@Minv)"
   ]
  },
  {
   "cell_type": "code",
   "execution_count": null,
   "metadata": {},
   "outputs": [],
   "source": [
    "# compute the matrix exponential e^M = I + M + M^2/2 + M^3/3! + ...\n",
    "Mx = np.array([[0,1],[1,0]]) #the square of this matrix is the identity\n",
    "print (la.expm(Mx))"
   ]
  },
  {
   "cell_type": "code",
   "execution_count": null,
   "metadata": {},
   "outputs": [],
   "source": [
    "# check the result\n",
    "# since M**2 = I, we have that \n",
    "# e^M = (I + I/2 + I/4! ...) + M(I + I/3! + I/5! + ...) = I cosh(1) + M sinh(1)\n",
    "Mcheck = np.eye(2)*np.cosh(1) + Mx*np.sinh(1)\n",
    "print (Mcheck - la.expm(Mx))"
   ]
  },
  {
   "cell_type": "code",
   "execution_count": null,
   "metadata": {},
   "outputs": [],
   "source": [
    "# compute the LU decomposition (with partial pivoting) of M\n",
    "# this decomposes M into the matrices P, L, U, \n",
    "# where L is a lower triangular and U an upper triangular matrix, and P is a permutation matrix. \n",
    "P, L, U = la.lu(M)\n",
    "print (P)\n",
    "print (L)\n",
    "print (U) # U = M in this example"
   ]
  },
  {
   "cell_type": "code",
   "execution_count": null,
   "metadata": {},
   "outputs": [],
   "source": [
    "# check the LU decomposition\n",
    "(P @ L @ U) - M"
   ]
  },
  {
   "cell_type": "markdown",
   "metadata": {},
   "source": [
    "### Linear systems"
   ]
  },
  {
   "cell_type": "markdown",
   "metadata": {},
   "source": [
    "Solve a linear system of equations of the form\n",
    "\n",
    "$A\\, x = b$\n",
    "\n",
    "where $A$ is a matrix and $x$ and $b$ are vectors.<br> \n",
    "For a square matrix A, it can be solved using the `scipy.linalg` package with the `solve` method, which is a wrapper to the respective LAPACK routines."
   ]
  },
  {
   "cell_type": "code",
   "execution_count": null,
   "metadata": {},
   "outputs": [],
   "source": [
    "import scipy.linalg as la"
   ]
  },
  {
   "cell_type": "code",
   "execution_count": null,
   "metadata": {},
   "outputs": [],
   "source": [
    "A = np.array([[1,2,2], [0,1,0], [2,0,0]])\n",
    "b = np.array([1,2,3])\n",
    "print (A, '\\n\\n', b)"
   ]
  },
  {
   "cell_type": "code",
   "execution_count": null,
   "metadata": {},
   "outputs": [],
   "source": [
    "x = la.solve(A, b)\n",
    "print (x)"
   ]
  },
  {
   "cell_type": "code",
   "execution_count": null,
   "metadata": {},
   "outputs": [],
   "source": [
    "# check the solution\n",
    "print (np.dot(A, x) - b)"
   ]
  },
  {
   "cell_type": "markdown",
   "metadata": {},
   "source": [
    "### Eigenvalues and eigenvectors"
   ]
  },
  {
   "cell_type": "markdown",
   "metadata": {},
   "source": [
    "Solve the eigenvalue problem for a matrix $A$:\n",
    "\n",
    "$\\displaystyle A v_n = \\lambda_n v_n$\n",
    "\n",
    "where $v_n$ is the $n$th eigenvector and $\\lambda_n$ the corresponding eigenvalue.\n",
    "\n",
    "The function `eigvals` computes only the eigenvalues, while `eig` computes both the eigenvalues and eigenvectors:"
   ]
  },
  {
   "cell_type": "code",
   "execution_count": null,
   "metadata": {},
   "outputs": [],
   "source": [
    "# example\n",
    "A = np.array([[0,1],[1,0]]) # note that A^2 = I\n",
    "evals = la.eigvals(A) # the eigenvalues are +1 and -1, since A^2 = I\n",
    "print (evals)"
   ]
  },
  {
   "cell_type": "code",
   "execution_count": null,
   "metadata": {},
   "outputs": [],
   "source": [
    "evals, evecs = la.eig(A)\n",
    "print (evals) \n",
    "print ('')\n",
    "print (evecs) # the eigenvectors are (1,-1) and (1,1) (apart from a normalization factor 1/sqrt(2) )"
   ]
  },
  {
   "cell_type": "markdown",
   "metadata": {},
   "source": [
    "Note that the $n$th eigenvalue is stored in `evals[n]` and the corresponding eigenvector is the $n$th column in `evecs`, namely `evecs[:,n]`. Let's verify:"
   ]
  },
  {
   "cell_type": "code",
   "execution_count": null,
   "metadata": {},
   "outputs": [],
   "source": [
    "for n in range(np.ndim(A)):\n",
    "    # compute the vector A v_n - lambda_n v_n\n",
    "    check = la.norm( np.dot(A, evecs[:,n]) - evals[n] * evecs[:,n])\n",
    "    print (check)"
   ]
  },
  {
   "cell_type": "markdown",
   "metadata": {},
   "source": [
    "## Interpolation"
   ]
  },
  {
   "cell_type": "markdown",
   "metadata": {},
   "source": [
    "Interpolation is the process of finding a value between two points in a data set. Ideally, one can obtain an analytic function that interpolates the data.\n",
    "\n",
    "In SciPy, the `interp1d` function acts on a data set (x,y), <br>\n",
    "and returns a function that can give the interpolated value of y for arbitrary x in the range covered by the data."
   ]
  },
  {
   "cell_type": "code",
   "execution_count": null,
   "metadata": {},
   "outputs": [],
   "source": [
    "from scipy.interpolate import interp1d #interp1d is in scipy.interpolate\n",
    "import matplotlib.pyplot as plt\n",
    "\n",
    "# generate data (according to a function)\n",
    "x = np.linspace(0, 5, 11)\n",
    "f = lambda x: np.cos(x**2/3+4) \n",
    "\n",
    "y = f(x)\n",
    "\n",
    "# plot the data\n",
    "plt.plot(x, y,'o')\n",
    "plt.show()"
   ]
  },
  {
   "cell_type": "markdown",
   "metadata": {},
   "source": [
    "Create interpolation functions with two different methods"
   ]
  },
  {
   "cell_type": "code",
   "execution_count": null,
   "metadata": {},
   "outputs": [],
   "source": [
    "f1 = interp1d(x, y, kind = 'linear') # linear fit\n",
    "f2 = interp1d(x, y, kind = 'cubic') # cubit fit"
   ]
  },
  {
   "cell_type": "code",
   "execution_count": null,
   "metadata": {},
   "outputs": [],
   "source": [
    "xnew = np.linspace(0, 5,30)\n",
    "\n",
    "plt.figure(figsize=(12, 6))\n",
    "plt.plot(x, y, 'ro', xnew, f1(xnew), 'm-', xnew, f2(xnew), 'k--', xnew,f(xnew), '-')\n",
    "plt.legend(['data', 'linear', 'cubic','exact'], loc = 'best')\n",
    "plt.show()"
   ]
  },
  {
   "cell_type": "markdown",
   "metadata": {},
   "source": [
    "A general interpolation method is the one based on **splines**. See the [documentation](https://docs.scipy.org/doc/scipy/reference/tutorial/interpolate.html) for more details."
   ]
  },
  {
   "cell_type": "markdown",
   "metadata": {},
   "source": [
    "## Statistics"
   ]
  },
  {
   "cell_type": "markdown",
   "metadata": {},
   "source": [
    "The `scipy.stats` module can be used for statistical distributions, functions and tests.<br> \n",
    "Its documentation can be found at http://docs.scipy.org/doc/scipy/reference/stats.html."
   ]
  },
  {
   "cell_type": "code",
   "execution_count": null,
   "metadata": {},
   "outputs": [],
   "source": [
    "from scipy import stats"
   ]
  },
  {
   "cell_type": "code",
   "execution_count": null,
   "metadata": {},
   "outputs": [],
   "source": [
    "# create a continuous random variable Y with normal distribution\n",
    "# in this standard definition, the distribution is centered at 0 and has $\\sigma = 1$\n",
    "Y = stats.norm()"
   ]
  },
  {
   "cell_type": "code",
   "execution_count": null,
   "metadata": {},
   "outputs": [],
   "source": [
    "x = linspace(-4,4,100)\n",
    "\n",
    "fig, axes = plt.subplots(2,1, sharex=True)\n",
    "\n",
    "# plot the probability distribution function (PDF)\n",
    "axes[0].plot(x, Y.pdf(x), color='g')\n",
    "\n",
    "# plot a histogram of 10000 random realizations of the stochastic variable Y\n",
    "axes[1].hist(Y.rvs(size=10000), bins=50, color='g');"
   ]
  },
  {
   "cell_type": "markdown",
   "metadata": {},
   "source": [
    "We can compute the mean, standard deviation, and variance of the normal distribution:"
   ]
  },
  {
   "cell_type": "code",
   "execution_count": null,
   "metadata": {},
   "outputs": [],
   "source": [
    "Y.mean(), Y.std(), Y.var() # normal distribution"
   ]
  },
  {
   "cell_type": "markdown",
   "metadata": {},
   "source": [
    "We can also compute the mean, standard deviation, and variance of any other data set.<br>\n",
    "Let's try with a data set made up by points distributed according to the normal distribution.<br> \n",
    "In the limit of a large number of points, the mean, standard deviation and variance will approach those of the normal distribution"
   ]
  },
  {
   "cell_type": "code",
   "execution_count": null,
   "metadata": {},
   "outputs": [],
   "source": [
    "X1 = Y.rvs(size=10000)\n",
    "X2 = Y.rvs(size=100)\n",
    "#print (type(X), len(X))"
   ]
  },
  {
   "cell_type": "code",
   "execution_count": null,
   "metadata": {},
   "outputs": [],
   "source": [
    "print ('X1 (10000 pts):',X1.mean(), X1.std(), X1.var())\n",
    "print ('')\n",
    "print ('X2 (100 pts):', X2.mean(), X2.std(), X2.var())"
   ]
  },
  {
   "cell_type": "markdown",
   "metadata": {},
   "source": [
    "Another python package for statistical modelling worth checking out is [statsmodels](http://statsmodels.sourceforge.net)."
   ]
  },
  {
   "cell_type": "code",
   "execution_count": null,
   "metadata": {},
   "outputs": [],
   "source": []
  }
 ],
 "metadata": {
  "kernelspec": {
   "display_name": "Python 3",
   "language": "python",
   "name": "python3"
  },
  "language_info": {
   "codemirror_mode": {
    "name": "ipython",
    "version": 3
   },
   "file_extension": ".py",
   "mimetype": "text/x-python",
   "name": "python",
   "nbconvert_exporter": "python",
   "pygments_lexer": "ipython3",
   "version": "3.7.2"
  }
 },
 "nbformat": 4,
 "nbformat_minor": 1
}
