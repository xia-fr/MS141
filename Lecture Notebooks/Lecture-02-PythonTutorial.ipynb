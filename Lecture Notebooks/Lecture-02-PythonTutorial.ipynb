{
 "cells": [
  {
   "cell_type": "markdown",
   "metadata": {},
   "source": [
    "# MS141: Lecture 2 \n",
    "## Study: chapter 2 and notebook\n",
    "# Introduction\n",
    "\n",
    "This Jupyer notebook is a brief review of Python 3.<br>\n",
    "Many excellent online tutorials exist for python.<br>\n",
    "[A good python tutorial is here](https://docs.python.org/3/tutorial/)<br>\n",
    "Please also see the Python cheat sheet on Moodle.\n",
    "\n",
    "We are going to cover these topics:\n",
    "\n",
    "- Data structures and operations\n",
    "- Flow control statements\n",
    "- Functions \n",
    "- Basic I/O \n",
    "\n",
    "\n",
    "Jupyter has both markdown and code *cells*. This cell is written using Markdown.<br> \n",
    "A Jupyter cheat sheet is posted on Moodle. Others can be found [here](https://en.support.wordpress.com/markdown-quick-reference/) and [here](https://github.com/adam-p/markdown-here/wiki/Markdown-Cheatsheet).\n",
    "\n",
    "Note that you can use LaTeX in these notebooks. For example, $$\\int dx\\ x = \\frac{1}{2}x^{2} + C$$"
   ]
  },
  {
   "cell_type": "markdown",
   "metadata": {},
   "source": [
    "# Data structures and operations\n",
    "\n",
    "Unlike compiled languages (Fortran or C++), Python code is interpreted, and we do not have to declare the variables and their types explicitly."
   ]
  },
  {
   "cell_type": "markdown",
   "metadata": {},
   "source": [
    "### Integer, real, and complex numbers\n",
    "Numbers are represented using binary values – strings of 0 and 1 – inside a computer.<br> \n",
    "We will discuss this point next week and will not worry about it for now.<br>\n",
    "When you see the hash symbol # in the code cells below, it denotes a comment line. \n",
    "Another way to use comments is '''comments go in this block'''."
   ]
  },
  {
   "cell_type": "code",
   "execution_count": null,
   "metadata": {
    "scrolled": true
   },
   "outputs": [],
   "source": [
    "# this is a comment line\n",
    "\"\"\"\n",
    "this is also a comment line\n",
    "if you have multiple comment lines your can use this approach.\n",
    "\"\"\"\n",
    "\n",
    "# a is a variable\n",
    "# what is its type?\n",
    "\n",
    "a = 1  # integer \n",
    "print (a)\n",
    "print (type(a))"
   ]
  },
  {
   "cell_type": "code",
   "execution_count": null,
   "metadata": {
    "scrolled": true
   },
   "outputs": [],
   "source": [
    "b = 1.0 # real number, represented as a floating point number (briefly, a float)\n",
    "# python always uses double precision (64 bit) floating point numbers (accuracy = 15 decimal digits)\n",
    "print (b)\n",
    "print (type(b))"
   ]
  },
  {
   "cell_type": "code",
   "execution_count": null,
   "metadata": {
    "scrolled": true
   },
   "outputs": [],
   "source": [
    "c = 1.0+1.0j # complex number (j is the imaginary unit, namely the square root of -1). A pair of floats!\n",
    "print (c)\n",
    "print (c*(c.conjugate())) # |c|^2\n",
    "print (type(c))\n",
    "print (abs(c))"
   ]
  },
  {
   "cell_type": "code",
   "execution_count": null,
   "metadata": {
    "scrolled": true
   },
   "outputs": [],
   "source": [
    "# scientific notation\n",
    "d1 = 6.022140857e23 # means 6.022140857 x 10^23 ; Avogadro's number\n",
    "d2 = 1.38064852e-23 # 1.38064852 x 10^(-23) ; Boltzmann constant (m^2 kg s^{-2}K^{-1} units)\n",
    "print (d1)\n",
    "print (d2)"
   ]
  },
  {
   "cell_type": "markdown",
   "metadata": {},
   "source": [
    "### Arithmetic operations"
   ]
  },
  {
   "cell_type": "code",
   "execution_count": null,
   "metadata": {},
   "outputs": [],
   "source": [
    "# addition, subtraction, multiplication, division\n",
    "a = 3.0\n",
    "b = 4.0\n",
    "print (a+b, a-b, a*b, a/b)"
   ]
  },
  {
   "cell_type": "code",
   "execution_count": null,
   "metadata": {},
   "outputs": [],
   "source": [
    "# power is **\n",
    "3.**2"
   ]
  },
  {
   "cell_type": "code",
   "execution_count": null,
   "metadata": {},
   "outputs": [],
   "source": [
    "# remainder or modulo, % symbol\n",
    "print (15%10)\n",
    "print (2%2)"
   ]
  },
  {
   "cell_type": "markdown",
   "metadata": {},
   "source": [
    "### Boolean values and comparison operators"
   ]
  },
  {
   "cell_type": "markdown",
   "metadata": {},
   "source": [
    "In Python, the two Boolean values are `True` and `False` (the capitalization must be exactly as shown), and the Python type is bool."
   ]
  },
  {
   "cell_type": "code",
   "execution_count": null,
   "metadata": {},
   "outputs": [],
   "source": [
    "type(True)"
   ]
  },
  {
   "cell_type": "code",
   "execution_count": null,
   "metadata": {},
   "outputs": [],
   "source": [
    "type(true) # will give an error message"
   ]
  },
  {
   "cell_type": "markdown",
   "metadata": {},
   "source": [
    "A **Boolean expression** is an expression that evaluates to produce a Boolean value.<br> \n",
    "For example, the operator `==` tests if two values are equal. It produces a Boolean value:"
   ]
  },
  {
   "cell_type": "code",
   "execution_count": null,
   "metadata": {},
   "outputs": [],
   "source": [
    "5 == (3 + 2)   # Is 5 equal to the result of 3 + 2?"
   ]
  },
  {
   "cell_type": "markdown",
   "metadata": {},
   "source": [
    "The `==` operator is one of six common **comparison operators**, all of which give a boolean result.<br> \n",
    "There are six comparison operators, `==`, `!=`, `>`, `<`, `>=`, `<=`. Let's see them in action:"
   ]
  },
  {
   "cell_type": "code",
   "execution_count": null,
   "metadata": {},
   "outputs": [],
   "source": [
    "# Note that '=' means set equal to\n",
    "z = 1\n",
    "\n",
    "# '==' means \"is it equal to?\"\n",
    "result1 = (z == 1)\n",
    "print ('result1: ', result1)\n",
    "\n",
    "# '!=' means not equal\n",
    "result2 = (z != 1)\n",
    "print ('result2: ', result2, 'more text')"
   ]
  },
  {
   "cell_type": "code",
   "execution_count": null,
   "metadata": {},
   "outputs": [],
   "source": [
    "# comparing numbers\n",
    "\n",
    "a = 1.5\n",
    "b = 4.0\n",
    "c = 1.5\n",
    "\n",
    "# >: greater than\n",
    "print (a,'is greater than', b,\":\", a>b)\n",
    "\n",
    "# <: smaller than\n",
    "print (a,'is smaller than', b,\":\", a<b)\n",
    "\n",
    "# >=: greater than or equal to\n",
    "print (a,'is greater than or equal to', c,\":\", a>=c)\n",
    "\n",
    "# <=: smaller than or equal to\n",
    "print (a,'is smaller than or equal to', c,\":\", a<=c)"
   ]
  },
  {
   "cell_type": "markdown",
   "metadata": {},
   "source": [
    "When comparing real numbers, use a threshold (reason: round-off error due to how real numbers are represented in memory)"
   ]
  },
  {
   "cell_type": "code",
   "execution_count": null,
   "metadata": {},
   "outputs": [],
   "source": [
    "# be careful when you think two real numbers are equal\n",
    "orig = 10.0\n",
    "new = (orig / 77)*77 #is this also 10.0 ?\n",
    "\n",
    "print ('Equal:', orig==new)\n",
    "print ('The new number is:', new)\n",
    "\n",
    "# provide a threshold - float numbers are equal within a threshold\n",
    "threshold = 1e-8 # the threshold should not be smaller than, say, 10^-12 \n",
    "print ('Equal within the threshold:', abs(orig-new) < threshold)"
   ]
  },
  {
   "cell_type": "markdown",
   "metadata": {},
   "source": [
    "### Logical operators\n",
    "Using the operators `and`, `or`, `not`, one can build more complex Boolean expressions, in which the usual truth tables apply."
   ]
  },
  {
   "cell_type": "code",
   "execution_count": null,
   "metadata": {},
   "outputs": [],
   "source": [
    "# Logical \"and\"\n",
    "a = True\n",
    "b = False\n",
    "c = (3==3)\n",
    "\n",
    "print (a&b) # True and False  = False\n",
    "print (a&c) # True and True   = True"
   ]
  },
  {
   "cell_type": "code",
   "execution_count": null,
   "metadata": {},
   "outputs": [],
   "source": [
    "# Logical \"or\"\n",
    "a = True\n",
    "b = False\n",
    "c = (3<2)\n",
    "\n",
    "print (a or b) # True or False  = True\n",
    "print (b or c) # False or False = False"
   ]
  },
  {
   "cell_type": "code",
   "execution_count": null,
   "metadata": {},
   "outputs": [],
   "source": [
    "# Logical \"not\"\n",
    "a = True\n",
    "b = False\n",
    "\n",
    "print (not a) # not True = False\n",
    "print (not b) # not False = True"
   ]
  },
  {
   "cell_type": "markdown",
   "metadata": {},
   "source": [
    "### Strings\n",
    "String literals in python are surrounded by either single or double quotation marks.\n",
    "'hello' is the same as \"hello\"."
   ]
  },
  {
   "cell_type": "code",
   "execution_count": null,
   "metadata": {},
   "outputs": [],
   "source": [
    "#Strings can be output to screen using the print function. For example: print(\"hello\").\n",
    "print ('Hello')\n",
    "print (type('hello'))\n",
    "\n",
    "# Square brackets can be used to access elements of the string.\n",
    "greet = 'Hello'\n",
    "print (greet[0], greet[4])\n",
    "\n",
    "# Strings are lists with special methods that can act on them. \n",
    "# We will make simple use of strings, but you can learn more about them in the online tutorial"
   ]
  },
  {
   "cell_type": "markdown",
   "metadata": {},
   "source": [
    "## Lists and tuples"
   ]
  },
  {
   "cell_type": "markdown",
   "metadata": {},
   "source": [
    "Lists and tuples are arrays, namely variables that contain multiple values.<br> \n",
    "Lists are mutable (we can change their values), tuples are immutable."
   ]
  },
  {
   "cell_type": "code",
   "execution_count": null,
   "metadata": {},
   "outputs": [],
   "source": [
    "# Lists use brackets, []\n",
    "lst = [1,2,3] # a list of integers\n",
    "print (lst)\n",
    "print (type(lst))\n",
    "print (len(lst))  # number of elements in the list"
   ]
  },
  {
   "cell_type": "code",
   "execution_count": null,
   "metadata": {},
   "outputs": [],
   "source": [
    "lst = ['Nien-En','Louis','Benjamin','Marco']  # a list of strings\n",
    "print (lst)\n",
    "print (type(lst))\n",
    "print (len(lst))"
   ]
  },
  {
   "cell_type": "code",
   "execution_count": null,
   "metadata": {},
   "outputs": [],
   "source": [
    "# the index of the first element is 0, the index of the last element is len(lst) - 1\n",
    "lst = ['Nien-En','Louis','Benjamin','Marco']\n",
    "print (lst[0])\n",
    "print (lst[1])\n",
    "print (lst[3])\n",
    "print (lst[-1]) #-1 gives the last element"
   ]
  },
  {
   "cell_type": "code",
   "execution_count": null,
   "metadata": {},
   "outputs": [],
   "source": [
    "lst = ['Nien-En','Louis','Benjamin','Marco']\n",
    "\n",
    "# If we want only the middle two names, we can use a method called slicing, \n",
    "# which extracts some elements from the list\n",
    "print (lst[1:3])  # will include elements 1,2; list[start:end] includes start until (end-1), but not end"
   ]
  },
  {
   "cell_type": "code",
   "execution_count": null,
   "metadata": {},
   "outputs": [],
   "source": [
    "# lists can contain different data types\n",
    "lst = [1.0,'Austin',2.0+3.0j]\n",
    "print (lst)\n",
    "print (type(lst))"
   ]
  },
  {
   "cell_type": "code",
   "execution_count": null,
   "metadata": {},
   "outputs": [],
   "source": [
    "# generate an array from 1 to 10 using the range function\n",
    "\n",
    "array = [i for i in range(1,11)]\n",
    "#alternatively, array = [i+1 for i in range(10)]\n",
    "print (array)\n",
    "\n",
    "# The period . after 1 instructs to generate a list of floats\n",
    "array1 = [i+1. for i in range(10)] \n",
    "print (array1)"
   ]
  },
  {
   "cell_type": "markdown",
   "metadata": {},
   "source": [
    "How do we **modify, add or remove some elements in a list, or check if an element is in a list?**\n",
    "\n",
    "Often you don't remember things like these :-) \n",
    "The simple solution is just to Google it.<br>\n",
    "We do this a lot of this in scientific computing (including when preparing this material).<br> \n",
    "Remember - we are not computer scientists, we are scientists that use computers!"
   ]
  },
  {
   "cell_type": "code",
   "execution_count": null,
   "metadata": {},
   "outputs": [],
   "source": [
    "# modify an element\n",
    "lst = [1.0,2.0,3.0]\n",
    "print (\"before modification:\")\n",
    "print (lst)\n",
    "\n",
    "lst[1] = 5.0\n",
    "print (\"after modification:\")\n",
    "print (lst)"
   ]
  },
  {
   "cell_type": "markdown",
   "metadata": {},
   "source": [
    "Lists have several methods. To add elements, the most commonly used methods are `append` and `insert`:"
   ]
  },
  {
   "cell_type": "code",
   "execution_count": null,
   "metadata": {},
   "outputs": [],
   "source": [
    "# append: add a new element at the end \n",
    "lst = [1.0,2.0,3.0]\n",
    "print (lst)\n",
    "\n",
    "lst.append(6.0)\n",
    "print (lst)\n",
    "\n",
    "# insert(index, new element) adds an element at the specified position\n",
    "lst.insert(1,9.0)\n",
    "print (lst)"
   ]
  },
  {
   "cell_type": "markdown",
   "metadata": {},
   "source": [
    "To remove elements, the most commonly used methods are `remove` and `pop`:"
   ]
  },
  {
   "cell_type": "code",
   "execution_count": null,
   "metadata": {},
   "outputs": [],
   "source": [
    "lst = [1.0,2.0,3.0,2.0]\n",
    "print (lst)\n",
    "\n",
    "# remove: remove the first element with the specified values\n",
    "lst.remove(2.0)\n",
    "print (lst)\n",
    "\n",
    "# pop: removes the element at the specified position\n",
    "lst.pop(1) # this line returns the 'popped' value, 3.0\n",
    "print (lst)"
   ]
  },
  {
   "cell_type": "code",
   "execution_count": null,
   "metadata": {},
   "outputs": [],
   "source": [
    "# check if 3.0 and 4.0 are in the list\n",
    "lst = [1.0,2.0,3.0,5.0]\n",
    "check = 3.0 in lst\n",
    "print (check)\n",
    "\n",
    "# if yes, what is its index\n",
    "my_index = lst.index(3.0)\n",
    "print (lst)\n",
    "print (my_index)\n",
    "print (lst[my_index]) # check\n",
    "\n",
    "check = 4.0 in lst\n",
    "print (check)"
   ]
  },
  {
   "cell_type": "markdown",
   "metadata": {},
   "source": [
    "Properly copying a list"
   ]
  },
  {
   "cell_type": "code",
   "execution_count": null,
   "metadata": {},
   "outputs": [],
   "source": [
    "# the approaches explored above will permanently change the list\n",
    "# if you do not want this to happen, you can copy the list first\n",
    "lst = [1.0,2.0,3.0]\n",
    "lst_prime = lst  # this won't work because the two lists point to the same memory address\n",
    "\n",
    "lst.append(7.0)\n",
    "print (lst)\n",
    "print (lst_prime)\n",
    "\n",
    "lst_prime.remove(7.0)\n",
    "print (lst)\n",
    "print (lst_prime)"
   ]
  },
  {
   "cell_type": "code",
   "execution_count": null,
   "metadata": {},
   "outputs": [],
   "source": [
    "# the proper way of copying a list\n",
    "lst = [1.0,2.0,3.0]\n",
    "\n",
    "lst_prime = list(lst) # this works: copy the data to another address\n",
    "\n",
    "# now we can operate independently on the two lists\n",
    "lst.append(5.0)\n",
    "lst_prime.remove(2.0)\n",
    "print (lst)\n",
    "print (lst_prime)\n",
    "\n",
    "del lst[-1]\n",
    "lst_prime.insert(1,5.0)\n",
    "print (lst)\n",
    "print (lst_prime)"
   ]
  },
  {
   "cell_type": "markdown",
   "metadata": {},
   "source": [
    "Tuples are similar to lists, but they are immutable (you can use them to define numerical constants, for example)"
   ]
  },
  {
   "cell_type": "code",
   "execution_count": null,
   "metadata": {},
   "outputs": [],
   "source": [
    "# tuples use parentheses ()\n",
    "tup = (1.0,2.0,3.0,4.0)\n",
    "print (tup)\n",
    "print (tup[2])"
   ]
  },
  {
   "cell_type": "code",
   "execution_count": null,
   "metadata": {},
   "outputs": [],
   "source": [
    "# key difference between tuples and lists:\n",
    "# tuples cannot be changed\n",
    "# you will get an error if you try to modify a tuple\n",
    "tup[0] = 7.0"
   ]
  },
  {
   "cell_type": "markdown",
   "metadata": {},
   "source": [
    "More on tuples, if you are interested, see: https://www.tutorialspoint.com/python/python_tuples.htm"
   ]
  },
  {
   "cell_type": "markdown",
   "metadata": {},
   "source": [
    "### Dictionaries\n",
    "Less important concept for our scientific computing goals. Described here briefly for self-study"
   ]
  },
  {
   "cell_type": "code",
   "execution_count": null,
   "metadata": {},
   "outputs": [],
   "source": [
    "# dictionary = {'key1':value1, 'key2':value2, ...}\n",
    "dic = {'Alice':90,'Bob':80,'Charlie':85}\n",
    "print (dic)\n",
    "\n",
    "# dic[key] returns the value\n",
    "print (dic['Alice'])"
   ]
  },
  {
   "cell_type": "code",
   "execution_count": null,
   "metadata": {},
   "outputs": [],
   "source": [
    "# Dictionaries are mutable\n",
    "dic = {'Alice':90,'Bob':80,'Charlie':85}\n",
    "print (\"Before modification:\")\n",
    "print (dic['Charlie'])\n",
    "\n",
    "dic['Charlie']=100\n",
    "\n",
    "print (\"After modification:\")\n",
    "print (dic['Charlie'])"
   ]
  },
  {
   "cell_type": "markdown",
   "metadata": {},
   "source": [
    "More on dictionaries, see: https://www.tutorialspoint.com/python/python_dictionary.htm, and other resources (Google)."
   ]
  },
  {
   "cell_type": "markdown",
   "metadata": {},
   "source": [
    "Short summary:\n",
    "\n",
    "list []: mutable\n",
    "\n",
    "tuple (): immutable\n",
    "\n",
    "dictionary {}: mutable, key-value"
   ]
  },
  {
   "cell_type": "markdown",
   "metadata": {},
   "source": [
    "# Control statements\n",
    "\n",
    "We typically want to control the flow of our computer program. To do so, we use loops (`for`, `while`) and conditionals (`if`, `elif`, `else`).<br> \n",
    "Note that the code within all control statements is **indented** in python"
   ]
  },
  {
   "cell_type": "markdown",
   "metadata": {},
   "source": [
    "### for \n",
    "For loops are used for repeating code a predetermined number of times or to loop over lists or arrays. \n",
    "Use the built-in function `range`"
   ]
  },
  {
   "cell_type": "code",
   "execution_count": null,
   "metadata": {},
   "outputs": [],
   "source": [
    "# use range(5) to execute the code 5 times\n",
    "for i in range(5):  #range(5) or range (0,5) is the set of integers 0,1,2,3,4\n",
    "    print (i) #use tab to indent\n",
    "    print ('Hello\\n') #\\n adds an empty line below\n",
    "    \n",
    "print ('How are you?')"
   ]
  },
  {
   "cell_type": "code",
   "execution_count": null,
   "metadata": {},
   "outputs": [],
   "source": [
    "continents = ['Asia', 'Africa', 'North America',     \n",
    "              'South America', 'Antarctica', 'Europe', 'Australia']\n",
    "\n",
    "# loop through the list of continents\n",
    "for cont in continents:\n",
    "    print (cont)"
   ]
  },
  {
   "cell_type": "code",
   "execution_count": null,
   "metadata": {},
   "outputs": [],
   "source": [
    "continents = ['Asia', 'Africa', 'North America', \\\n",
    "         'South America', 'Antarctica', 'Europe', 'Australia']\n",
    "\n",
    "# sort alphabetically and print\n",
    "# sort is a list method.\n",
    "continents.sort()\n",
    "\n",
    "# enumerate: gives (index and items) in the list\n",
    "for num, item in enumerate(continents):\n",
    "    print (num + 1, item)"
   ]
  },
  {
   "cell_type": "code",
   "execution_count": null,
   "metadata": {},
   "outputs": [],
   "source": [
    "# use enumerate without item \n",
    "print (\"print without item:\")\n",
    "\n",
    "for num, _ in enumerate(continents):\n",
    "    print (num+1)"
   ]
  },
  {
   "cell_type": "code",
   "execution_count": null,
   "metadata": {},
   "outputs": [],
   "source": [
    "# use enumerate without index\n",
    "print (\"print without number:\")\n",
    "\n",
    "for _, item in enumerate(continents):\n",
    "    print (item)"
   ]
  },
  {
   "cell_type": "markdown",
   "metadata": {},
   "source": [
    "### while \n",
    "\n",
    "This is useful when you want to repeat code until a certain condition is met. "
   ]
  },
  {
   "cell_type": "code",
   "execution_count": null,
   "metadata": {},
   "outputs": [],
   "source": [
    "# count to 10\n",
    "n = 1\n",
    "\n",
    "# use with care!\n",
    "while(n<=10):\n",
    "    print (n)\n",
    "    n=n+1  # if no increment is provided, you'll never exit the while loop!"
   ]
  },
  {
   "cell_type": "markdown",
   "metadata": {},
   "source": [
    "### if, elif, and else\n",
    "Using conditional statements, code is executed only when certain conditions are met.<br>\n",
    "One can check the value of some variables, define cases and scenarios with different outcomes, etc."
   ]
  },
  {
   "cell_type": "code",
   "execution_count": null,
   "metadata": {},
   "outputs": [],
   "source": [
    "n = 20\n",
    "\n",
    "# if condition:\n",
    "if n%2==0:\n",
    "    print (n,\"is even\")"
   ]
  },
  {
   "cell_type": "code",
   "execution_count": null,
   "metadata": {},
   "outputs": [],
   "source": [
    "n = 21\n",
    "\n",
    "# if, else\n",
    "if n%2==0:\n",
    "    print (n,\"is even\")\n",
    "else:\n",
    "    print (n, \"is odd\")"
   ]
  },
  {
   "cell_type": "code",
   "execution_count": null,
   "metadata": {},
   "outputs": [],
   "source": [
    "# try to change n\n",
    "n = 128927987\n",
    "\n",
    "# if, elif (else if), else\n",
    "if n%3==0:\n",
    "    print (n, \"is a multiple of 3.\")\n",
    "elif n%3==1:\n",
    "    print (n, \"is not a multiple of 3, but if we subtract\", 1, \", then it is.\")\n",
    "elif n%3==2:\n",
    "    print (n, \"is not a multiple of 3, but if we subtract\", 2, \", then it is.\")"
   ]
  },
  {
   "cell_type": "code",
   "execution_count": null,
   "metadata": {},
   "outputs": [],
   "source": [
    "# nested if\n",
    "\n",
    "# From the anime, One Piece (courtesy of my student, I-Te Lu)\n",
    "straw_hat_pirates= ['Luffy','Zoro','Nami','Usopp',\n",
    "                   'Sanji','Chopper','Robin','Franky',\n",
    "                   'Brook','Jimbei']\n",
    "\n",
    "name = 'Luffy'\n",
    "#name = 'Zoro'\n",
    "#name = 'Nami'\n",
    "#name = 'Shanks'\n",
    "\n",
    "if name in straw_hat_pirates:\n",
    "    print (\"I am\", name,\"in Straw Hat Pirates!\")\n",
    "    \n",
    "    if name == 'Luffy': \n",
    "        print (\"I'm gonna be the Pirate King\")\n",
    "    elif name == 'Zoro':\n",
    "        print (\"I'm gonna be the World's Greatest Swordsman\")\n",
    "    else:\n",
    "        print (\"Luffy is our captain!\")\n",
    "        \n",
    "else:\n",
    "    print (\"I am not part of Staw Hat Pirates!\")"
   ]
  },
  {
   "cell_type": "markdown",
   "metadata": {},
   "source": [
    "### Break and continue\n",
    "We can use `break` to end the execution of a loop, and `continue` to skip the current iteration and go to the next one"
   ]
  },
  {
   "cell_type": "code",
   "execution_count": null,
   "metadata": {},
   "outputs": [],
   "source": [
    "# compare with the cell below\n",
    "# the only difference is 'break' vs 'continue'\n",
    "string = \"cal!tech\"\n",
    "\n",
    "# break: break out of the current for loop\n",
    "for char in string:\n",
    "    if char == '!':\n",
    "        break\n",
    "    print (char)"
   ]
  },
  {
   "cell_type": "code",
   "execution_count": null,
   "metadata": {},
   "outputs": [],
   "source": [
    "# compare with the cell above\n",
    "string = \"cal!tech\"\n",
    "\n",
    "# continue: skip the rest of the code in the loop and go to the next iteration\n",
    "for char in string:\n",
    "    if char == '!':\n",
    "        continue\n",
    "    print (char)"
   ]
  },
  {
   "cell_type": "markdown",
   "metadata": {},
   "source": [
    "# Functions"
   ]
  },
  {
   "cell_type": "markdown",
   "metadata": {},
   "source": [
    "Functions are used to carry out specific tasks, to re-use code, etc. They use the keyword `def` (note the indentation within the function). <br>\n",
    "The variables used in the functions cannot be accessed from outside the function, unless the keyword `return` is used.<br>\n",
    "\n",
    "Most simple codes consist of a set of functions (sometimes bundled into modules), library calls to external functions, and code that uses these functions. This approach of coding is called *functional programming*, and it's the approach we'll use in this course."
   ]
  },
  {
   "cell_type": "code",
   "execution_count": null,
   "metadata": {},
   "outputs": [],
   "source": [
    "def say_hello():\n",
    "    print (\"Hello!\")\n",
    "    x = 1.0 # x has scope within the function\n",
    "    return x\n",
    "\n",
    "#outside of fn definition\n",
    "a = say_hello()\n",
    "print (a)\n",
    "#print (x) # the variable x is not visible outside say_hello"
   ]
  },
  {
   "cell_type": "code",
   "execution_count": null,
   "metadata": {},
   "outputs": [],
   "source": [
    "def say_hello_to(name=\"everyone\"):   #function takes an argument called name; its default value is \"everyone\"\n",
    "    print (\"Hello, \", name)\n",
    "\n",
    "say_hello_to()\n",
    "say_hello_to(\"Jack\")\n",
    "say_hello_to(\"Louis\")"
   ]
  },
  {
   "cell_type": "markdown",
   "metadata": {},
   "source": [
    "Let's define a function that takes two numerical inputs $x$ and $y$ and returns the mean $(x+y)/2$."
   ]
  },
  {
   "cell_type": "code",
   "execution_count": null,
   "metadata": {},
   "outputs": [],
   "source": [
    "def mean(x,y):\n",
    "    return (x + y)/2\n",
    "\n",
    "# find the mean of two numbers\n",
    "result = mean(2,3)\n",
    "print (result)\n",
    "#print (mean(2023,1032))"
   ]
  },
  {
   "cell_type": "markdown",
   "metadata": {},
   "source": [
    "Here is a function that computes the factorial $n!$, where $n$ is a user defined input:"
   ]
  },
  {
   "cell_type": "code",
   "execution_count": null,
   "metadata": {},
   "outputs": [],
   "source": [
    "def factorial(n): # 1*2*....*n\n",
    "    \"Compute the factorial n! of a positive integer.\"\n",
    "    product = 1\n",
    "    if n == 0 or n == 1:\n",
    "        return product\n",
    "    else:\n",
    "        for d in range(2,n+1):\n",
    "            product = product * d\n",
    "        return product\n",
    "    \n",
    "print (factorial(9))"
   ]
  },
  {
   "cell_type": "markdown",
   "metadata": {},
   "source": [
    "In numerical python, a common task is to define a mathematical function.<br> \n",
    "There are two ways of doing it."
   ]
  },
  {
   "cell_type": "markdown",
   "metadata": {},
   "source": [
    "We can use the `def` keyword to create a function with a name:"
   ]
  },
  {
   "cell_type": "code",
   "execution_count": null,
   "metadata": {},
   "outputs": [],
   "source": [
    "def f(x):   # f is the name of a function\n",
    "    return x**2 + 1\n",
    "print (f(2))"
   ]
  },
  {
   "cell_type": "markdown",
   "metadata": {},
   "source": [
    "We can use the `lambda` keyword to create an anonymous function (a function with no name).<br> \n",
    "Lambda functions are small functions, usually not more than a line. \n",
    "They can have any number of arguments just like a normal function."
   ]
  },
  {
   "cell_type": "code",
   "execution_count": null,
   "metadata": {},
   "outputs": [],
   "source": [
    "f = lambda x: x**2 + 1  # f is a variable assigned to be an anonymous lambda function\n",
    "print (f(2))"
   ]
  },
  {
   "cell_type": "code",
   "execution_count": null,
   "metadata": {},
   "outputs": [],
   "source": [
    "g = lambda x,y: x**2 + y**2\n",
    "print (g(2,2))"
   ]
  },
  {
   "cell_type": "markdown",
   "metadata": {},
   "source": [
    "Python has several built-in functions available to us to use with numbers, lists and strings. See the [documentation](https://docs.python.org/3/library/functions.html) for more info.<br>\n",
    "For numbers (that is, `int` and `float`), `abs(x)` returns the absolute value of x, and `round(x)` returns the nearest integer. "
   ]
  },
  {
   "cell_type": "code",
   "execution_count": null,
   "metadata": {},
   "outputs": [],
   "source": [
    "x = 1.45\n",
    "y = -4\n",
    "\n",
    "print (abs(y))\n",
    "print (round(x))"
   ]
  },
  {
   "cell_type": "markdown",
   "metadata": {},
   "source": [
    "For lists of numbers, `max` and `min` return the maximum and minimum value, and `sum` the sum of the elements of the list"
   ]
  },
  {
   "cell_type": "code",
   "execution_count": null,
   "metadata": {},
   "outputs": [],
   "source": [
    "L=[1,2,3,4,5,6]\n",
    "print (max(L))\n",
    "print (min(L))\n",
    "print (sum(L)) "
   ]
  },
  {
   "cell_type": "markdown",
   "metadata": {},
   "source": [
    "# Packages (more on this next time)"
   ]
  },
  {
   "cell_type": "code",
   "execution_count": null,
   "metadata": {},
   "outputs": [],
   "source": [
    "# call packages (e.g., numpy)\n",
    "import numpy as np\n",
    "\n",
    "# take a look at what is inside the numpy package\n",
    "#print (dir(np))\n",
    "\n",
    "# pi is inside the numpy package\n",
    "print ('pi' in dir(np))\n",
    "\n",
    "print (np.pi)"
   ]
  },
  {
   "cell_type": "markdown",
   "metadata": {},
   "source": [
    "**There are three ways to use** \"tools\" (e.g., $\\pi$) from a \"toolbox\" (e.g., numpy)."
   ]
  },
  {
   "cell_type": "code",
   "execution_count": null,
   "metadata": {},
   "outputs": [],
   "source": [
    "# from \"toolbox\" import \"tool\"\n",
    "from numpy import pi\n",
    "\n",
    "print (pi)"
   ]
  },
  {
   "cell_type": "code",
   "execution_count": null,
   "metadata": {},
   "outputs": [],
   "source": [
    "# from \"toolbox\" import \"all tools\"\n",
    "from numpy import * \n",
    "# use '*' to import all tools\n",
    "\n",
    "# use the sin 'tool' in the numpy package\n",
    "print (sin(pi/2))"
   ]
  },
  {
   "cell_type": "code",
   "execution_count": null,
   "metadata": {},
   "outputs": [],
   "source": [
    "# import \"toolbox\" as \"you name it\"\n",
    "# this approach is cleaner since we know where the function comes from\n",
    "import numpy as np  # 'np' is the conventional name for numpy \n",
    " \n",
    "print (np.sin(np.pi/2))\n",
    "print (np.pi)"
   ]
  },
  {
   "cell_type": "markdown",
   "metadata": {},
   "source": [
    "## Basic Input / Output \n",
    "\n",
    "Since we are using Jupyter notebooks, we will not need to write or read files extensively.<br> \n",
    "For research though, we will need to learn the basics of I/O in python. Two good tutorials on I/O are [tutorial 1](https://www.datacamp.com/community/tutorials/reading-writing-files-python) and [tutorial 2](https://docs.python.org/3/tutorial/inputoutput.html).<br>\n",
    "The example below simply shows how to write and read data."
   ]
  },
  {
   "cell_type": "markdown",
   "metadata": {},
   "source": [
    "Python has in-built functions to read, write, and manipulate files.<br>\n",
    "The `open()` method returns a **file handle** that represents a file object to be used to access the file<br>\n",
    "for **reading, writing, or appending** (i.e., adding content to an existing file).<br> \n",
    "When opening a file, one has to specify whether the intention is to read, write or append (use `r`, `w` or `a`, respectively).<br>\n",
    "The `close()` method closes the file."
   ]
  },
  {
   "cell_type": "markdown",
   "metadata": {},
   "source": [
    "By default, we'll write text files, but in python it's also possible to write / read binary files, which are smaller and faster to handle.<br>\n",
    "For writing, the most common method is `write(string)`.<br> "
   ]
  },
  {
   "cell_type": "code",
   "execution_count": null,
   "metadata": {},
   "outputs": [],
   "source": [
    "filename=\"test.txt\"\n",
    "\n",
    "# open filename for writing; my_file is the filehandle\n",
    "my_file = open(filename, 'w')\n",
    "\n",
    "my_file.write('Hello world!\\n') #\\n is used to go to a new line\n",
    "my_file.write('I just wrote a new line.\\n')\n",
    "\n",
    "# closing the file is good programming style\n",
    "my_file.close()"
   ]
  },
  {
   "cell_type": "markdown",
   "metadata": {},
   "source": [
    "Let's now read the file test.txt we created above, which is located in the same folder as this notebook.<br> \n",
    "For reading, we can use `read()` to read the entire file.<br> "
   ]
  },
  {
   "cell_type": "code",
   "execution_count": null,
   "metadata": {},
   "outputs": [],
   "source": [
    "filename=\"test.txt\"\n",
    "\n",
    "# open filename for reading; my_file is the filehandle\n",
    "my_file = open(filename, 'r')  # read binary would be 'rb'\n",
    "\n",
    "content = my_file.read()\n",
    "print (content)\n",
    "\n",
    "# closing the file is good programming style\n",
    "my_file.close()"
   ]
  },
  {
   "cell_type": "markdown",
   "metadata": {},
   "source": [
    "**Reading line by line is most common.** It can be done using `readline()` in a `while` or `for` loop: "
   ]
  },
  {
   "cell_type": "code",
   "execution_count": null,
   "metadata": {},
   "outputs": [],
   "source": [
    "filename=\"test.txt\"\n",
    "\n",
    "# open filename for reading\n",
    "my_file = open(filename, 'r')  \n",
    "\n",
    "while True: \n",
    "    line = my_file.readline()\n",
    "    if not line: # need to stop the loop at the end of file\n",
    "        break\n",
    "    print (line.strip()) # strips the line of the trailing whitespace and prints it\n",
    "    print (line.split()) # splits the line (here, at whitespaces) and stores the fields into a list \n",
    "\n",
    "# closing the file is good programming style\n",
    "my_file.close()"
   ]
  },
  {
   "cell_type": "markdown",
   "metadata": {},
   "source": [
    "More concise ways of reading files line by line exist using `for`. No need to deal with filehandles this way"
   ]
  },
  {
   "cell_type": "code",
   "execution_count": null,
   "metadata": {},
   "outputs": [],
   "source": [
    "# no need for filehandle\n",
    "filename = \"test.txt\"\n",
    "\n",
    "for line in open(filename, 'r'):  \n",
    "    print(line.strip())"
   ]
  },
  {
   "cell_type": "markdown",
   "metadata": {},
   "source": [
    "Yet another way is the `with` command"
   ]
  },
  {
   "cell_type": "code",
   "execution_count": null,
   "metadata": {},
   "outputs": [],
   "source": [
    "filename = \"test.txt\"\n",
    "\n",
    "with open(filename, 'r') as filehandle:  \n",
    "    for line in filehandle:\n",
    "        print(line.strip())"
   ]
  },
  {
   "cell_type": "markdown",
   "metadata": {},
   "source": [
    "NumPy, which we will discuss in the next lecture, has a function called [`savetxt` to write to file](https://docs.scipy.org/doc/numpy/reference/generated/numpy.savetxt.html) and [`loadtxt` to read from file](https://docs.scipy.org/doc/numpy/reference/generated/numpy.loadtxt.html)"
   ]
  },
  {
   "cell_type": "code",
   "execution_count": null,
   "metadata": {},
   "outputs": [],
   "source": [
    "import numpy as np\n",
    "\n",
    "# files for storing the data\n",
    "file1 = 'sine.dat'\n",
    "file2 = 'cosine.dat'\n",
    "\n",
    "# number of points, including the end points\n",
    "npts = 101 \n",
    "\n",
    "t1 = np.linspace(0,2*np.pi,npts)  # divide the (0,2pi) into 100 intervals\n",
    "y1 = np.sin(t1)\n",
    "y2 = np.cos(t1)\n",
    "\n",
    "# write data into two columns, format data as floating point values\n",
    "np.savetxt(file1, np.transpose([t1,y1]), fmt='%9.6f') \n",
    "np.savetxt(file2, np.transpose([t1,y2]), fmt='%9.6f')\n",
    "\n",
    "# you can check these two files in the directory in which you are running this notebook"
   ]
  },
  {
   "cell_type": "code",
   "execution_count": null,
   "metadata": {},
   "outputs": [],
   "source": [
    "# Read the files we wrote in the previous cell and plot the two functions (more on this next time)\n",
    "import numpy as np\n",
    "import matplotlib.pyplot as plt\n",
    "\n",
    "# files we want to read\n",
    "file1 = 'sine.dat'\n",
    "file2 = 'cosine.dat'\n",
    "\n",
    "# read data from files\n",
    "t1, dat1 = np.loadtxt(fname=file1, usecols=(0,1), dtype=np.float64, unpack=True)\n",
    "t2, dat2 = np.loadtxt(fname=file2, usecols=(0,1), dtype=np.float64, unpack=True)\n",
    "\n",
    "%matplotlib inline\n",
    "# plot data (more on this in the next lecture)\n",
    "plt.plot(t1,dat1,'r+-',label='sine')\n",
    "plt.plot(t2,dat2,'bx-',label='cosine')\n",
    "\n",
    "plt.legend()\n",
    "plt.show()"
   ]
  },
  {
   "cell_type": "code",
   "execution_count": null,
   "metadata": {},
   "outputs": [],
   "source": []
  }
 ],
 "metadata": {
  "kernelspec": {
   "display_name": "Python 3",
   "language": "python",
   "name": "python3"
  },
  "language_info": {
   "codemirror_mode": {
    "name": "ipython",
    "version": 3
   },
   "file_extension": ".py",
   "mimetype": "text/x-python",
   "name": "python",
   "nbconvert_exporter": "python",
   "pygments_lexer": "ipython3",
   "version": "3.7.2"
  }
 },
 "nbformat": 4,
 "nbformat_minor": 2
}
