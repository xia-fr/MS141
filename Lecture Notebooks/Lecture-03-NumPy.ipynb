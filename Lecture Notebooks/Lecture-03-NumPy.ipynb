{
 "cells": [
  {
   "cell_type": "markdown",
   "metadata": {},
   "source": [
    "# MS 141 Lecture 3\n",
    "# Scientific Computing Packages for Python"
   ]
  },
  {
   "cell_type": "code",
   "execution_count": null,
   "metadata": {},
   "outputs": [],
   "source": [
    "# embed plots within the notebook\n",
    "%matplotlib inline\n",
    "import matplotlib.pyplot as plt"
   ]
  },
  {
   "cell_type": "markdown",
   "metadata": {},
   "source": [
    "## Introduction"
   ]
  },
  {
   "cell_type": "markdown",
   "metadata": {},
   "source": [
    "[SciPy](https://scipy.org/) is a Python-based suite of open source software for scientific computing in science and engineering. \n",
    "Its core packages include: \n",
    "* [NumPy](http://www.numpy.org/), the core Python package for scientific computing. It handles arrays, matrices and functions efficiently.\n",
    "* [Matplotlib](https://matplotlib.org/), a Python library for plotting, which produces publication quality figures. It can be used both in Python scripts and Jupyter notebooks.\n",
    "* [SciPy](https://docs.scipy.org/doc/scipy/reference/tutorial/index.html) library for higher-level scientific computing algorithms. It builds on top of the lower-level NumPy for multidimensional arrays, and can carry out tasks such as integration, optimization, interpolation, linear algebra, differential equations, and data analysis.\n",
    "\n",
    "Other interesting and widely used packages are `SymPy` for symbolic manipulation and `pandas` for data analysis."
   ]
  },
  {
   "cell_type": "markdown",
   "metadata": {},
   "source": [
    "# NumPy\n",
    "The main features of NumPy are N-dimensional arrays and vectorized operations and functions.<br>\n",
    "NumPy is designed for fast handling of numerical arrays. A NumPy array is described by metadata (dimensions, shape, data type, ...) and the actual data. The data is stored in a homogeneous and contiguous block of memory. This is the main difference between an array and a pure Python structure, such as a list, where the items are scattered across the system memory.<br> \n",
    "\n",
    "Contiguous memory storage is the critical feature that makes NumPy arrays so efficient. Memory locality results in significant performance gains as the data is loaded efficiently by the CPU cache and processed with vectorized operations. Additionally, NumPy is linked to highly optimized linear algebra libraries such as BLAS and LAPACK through ATLAS or the Intel Math Kernel Library (MKL). A few specific matrix computations may also be multithreaded, taking advantage of the power of modern multicore processors. This is why it's essential to use NumPy for scientific computing with Python.<br>\n",
    "\n",
    "To start using NumPy, we import it using the standard name `np`"
   ]
  },
  {
   "cell_type": "code",
   "execution_count": null,
   "metadata": {},
   "outputs": [],
   "source": [
    "import numpy as np"
   ]
  },
  {
   "cell_type": "markdown",
   "metadata": {},
   "source": [
    "## Generating arrays"
   ]
  },
  {
   "cell_type": "markdown",
   "metadata": {},
   "source": [
    "The basic object in NumPy is the `ndarray`. A one-dimensional (1D) `ndarray` is similar to a vector and a 2D array to a matrix.<br> \n",
    "Higher-dimensional arrays, which can be thought of as tensors, can also be generated and manipulated.<br>\n",
    "The function `numpy.array` creates a NumPy array from a sequence type such as a list or tuple."
   ]
  },
  {
   "cell_type": "code",
   "execution_count": null,
   "metadata": {},
   "outputs": [],
   "source": [
    "x = np.array([0,2,1])\n",
    "print (x)"
   ]
  },
  {
   "cell_type": "markdown",
   "metadata": {},
   "source": [
    "A NumPy array is different from a Python list – lists have commas, arrays have whitespace"
   ]
  },
  {
   "cell_type": "code",
   "execution_count": null,
   "metadata": {},
   "outputs": [],
   "source": [
    "x = np.array([0,2,1])\n",
    "print (x)\n",
    "print (type(x))\n",
    "print()\n",
    "\n",
    "x_list = [0,2,1]\n",
    "print (x_list)\n",
    "print (type(x_list))"
   ]
  },
  {
   "cell_type": "markdown",
   "metadata": {},
   "source": [
    "NumPy 1D arrays are more similar to vectors than lists"
   ]
  },
  {
   "cell_type": "code",
   "execution_count": null,
   "metadata": {},
   "outputs": [],
   "source": [
    "# try adding together two arrays vs. two lists\n",
    "a = np.array([1,2,3])  \n",
    "b = np.array([2,3,4])\n",
    "\n",
    "a_list = [1,2,3]\n",
    "b_list = [2,3,4]\n",
    "\n",
    "c = a + b #adds numpy arrays like vectors\n",
    "print ('c = ',c)\n",
    "\n",
    "c_list = a_list + b_list # does not add - it concatenates lists\n",
    "print ('c_list =', c_list)"
   ]
  },
  {
   "cell_type": "markdown",
   "metadata": {},
   "source": [
    "We can also create a 2D array (basically, a matrix) or multi-D arrays using nested lists"
   ]
  },
  {
   "cell_type": "code",
   "execution_count": null,
   "metadata": {},
   "outputs": [],
   "source": [
    "M = np.array([[1,0,1],[0,1,0]])\n",
    "print(M)"
   ]
  },
  {
   "cell_type": "markdown",
   "metadata": {},
   "source": [
    "The most commonly used functions for creating NumPy arrays are `numpy.linspace` and `numpy.arange`.<br>\n",
    "In general, `numpy.linspace` works best when we know the number of points we want in the array,<br> \n",
    "and `numpy.arange` when we know the step size between values in the array. Let's create a few arrays using these two methods."
   ]
  },
  {
   "cell_type": "markdown",
   "metadata": {},
   "source": [
    "A 1D NumPy array with 11 equally spaced values from 0 to 10"
   ]
  },
  {
   "cell_type": "code",
   "execution_count": null,
   "metadata": {},
   "outputs": [],
   "source": [
    "a = np.linspace(0,10,11) # initial, final, number of values (= num. intervals + 1)\n",
    "print (a)"
   ]
  },
  {
   "cell_type": "markdown",
   "metadata": {},
   "source": [
    "A 1D NumPy array with values from 0 to 10 (excluded) with increments of 2.5"
   ]
  },
  {
   "cell_type": "code",
   "execution_count": null,
   "metadata": {},
   "outputs": [],
   "source": [
    "a = np.arange(0,10,2.5) #initial, final, increment\n",
    "print (a)"
   ]
  },
  {
   "cell_type": "markdown",
   "metadata": {},
   "source": [
    "If we want to include 10 (the right limit), we can use"
   ]
  },
  {
   "cell_type": "code",
   "execution_count": null,
   "metadata": {},
   "outputs": [],
   "source": [
    "a = np.arange(0,10.1,2.5) #initial, final, increment\n",
    "print (a)"
   ]
  },
  {
   "cell_type": "code",
   "execution_count": null,
   "metadata": {},
   "outputs": [],
   "source": [
    "# compare the time to add 1 to every element\n",
    "# of a numpy array vs. python list (use timeit)\n",
    "a = np.arange(10000)\n",
    "%timeit a+1\n",
    "\n",
    "l = range(10000)\n",
    "%timeit [i+1 for i in l]"
   ]
  },
  {
   "cell_type": "markdown",
   "metadata": {},
   "source": [
    "Other commonly used functions can create arrays of zeros, ones, random numbers, or the identity matrix."
   ]
  },
  {
   "cell_type": "code",
   "execution_count": null,
   "metadata": {},
   "outputs": [],
   "source": [
    "# 1D array of zeros\n",
    "z1 = np.zeros(10) # 10 zeros\n",
    "print (z1,'\\n')\n",
    "\n",
    "# 2D array of zeros\n",
    "z2 = np.zeros((3,2)) # 3 rows, 2 columns\n",
    "print (z2)"
   ]
  },
  {
   "cell_type": "code",
   "execution_count": null,
   "metadata": {},
   "outputs": [],
   "source": [
    "# 1D array of ones\n",
    "o1 = np.ones(12)  #12 ones\n",
    "print (o1,'\\n')\n",
    "\n",
    "# 2D array of ones\n",
    "o2 = np.ones((3,4)) # 3 rows, 4 columns\n",
    "print (o2)"
   ]
  },
  {
   "cell_type": "code",
   "execution_count": null,
   "metadata": {},
   "outputs": [],
   "source": [
    "# 1D array of random numbers\n",
    "# from a uniform distribution in [0,1]\n",
    "ru = np.random.rand(10)\n",
    "print ('ru =', ru, '\\n')\n",
    "\n",
    "# 1D array of random numbers\n",
    "# from the standard normal distribution\n",
    "rn = np.random.randn(10)\n",
    "print ('rn =', rn, '\\n')\n",
    "\n",
    "# 2D array of random numbers\n",
    "r2 = np.random.rand(10,10)\n",
    "print ('r2 =', r2)"
   ]
  },
  {
   "cell_type": "code",
   "execution_count": null,
   "metadata": {},
   "outputs": [],
   "source": [
    "# 10 x 10 identity matrix\n",
    "i = np.eye(10) # np.identity(10) is equivalent\n",
    "print (i)"
   ]
  },
  {
   "cell_type": "markdown",
   "metadata": {},
   "source": [
    "## Array attributes "
   ]
  },
  {
   "cell_type": "markdown",
   "metadata": {},
   "source": [
    "We can access the attributes of NumPy arrays using the the dot syntax, through which we call methods acting on the array object."
   ]
  },
  {
   "cell_type": "code",
   "execution_count": null,
   "metadata": {},
   "outputs": [],
   "source": [
    "# generate a 1D random array with 8 elements\n",
    "A = np.random.randn(8)"
   ]
  },
  {
   "cell_type": "code",
   "execution_count": null,
   "metadata": {},
   "outputs": [],
   "source": [
    "# print its shape, number of dimensions, and size\n",
    "print (A.shape)\n",
    "print (A.ndim)\n",
    "print (A.size)"
   ]
  },
  {
   "cell_type": "code",
   "execution_count": null,
   "metadata": {},
   "outputs": [],
   "source": [
    "# repeat for a 2D array\n",
    "B = np.random.randn(10,10)\n",
    "\n",
    "# print its shape, number of dimensions, and size\n",
    "print (B.shape)\n",
    "print (B.ndim)\n",
    "print (B.size)"
   ]
  },
  {
   "cell_type": "markdown",
   "metadata": {},
   "source": [
    "We can also check the data type the array contains using `dtype`"
   ]
  },
  {
   "cell_type": "code",
   "execution_count": null,
   "metadata": {},
   "outputs": [],
   "source": [
    "# an array of integers\n",
    "M1 = np.array([[1,2,3],[4,5,6]])\n",
    "print (M1.dtype)"
   ]
  },
  {
   "cell_type": "code",
   "execution_count": null,
   "metadata": {},
   "outputs": [],
   "source": [
    "# an array of floats\n",
    "M2 = np.array([[1.,2,3],[4,5,6]])\n",
    "print (M2.dtype)"
   ]
  },
  {
   "cell_type": "markdown",
   "metadata": {},
   "source": [
    "We can specify the data type of the array when generating it:"
   ]
  },
  {
   "cell_type": "code",
   "execution_count": null,
   "metadata": {},
   "outputs": [],
   "source": [
    "# generate an array of complex numbers\n",
    "c = np.array([[1,2],[3,4]],dtype=np.complex)\n",
    "print (c,'\\n')\n",
    "print (c.dtype)"
   ]
  },
  {
   "cell_type": "markdown",
   "metadata": {},
   "source": [
    "Most NumPy functions create by default arrays of float64 (double-precisions floats) datatype:"
   ]
  },
  {
   "cell_type": "code",
   "execution_count": null,
   "metadata": {},
   "outputs": [],
   "source": [
    "a = np.linspace(0,10,101)\n",
    "print (a.dtype)"
   ]
  },
  {
   "cell_type": "markdown",
   "metadata": {},
   "source": [
    "## Manipulating arrays"
   ]
  },
  {
   "cell_type": "markdown",
   "metadata": {},
   "source": [
    "Slicing and indexing NumPy arrays is simple"
   ]
  },
  {
   "cell_type": "code",
   "execution_count": null,
   "metadata": {},
   "outputs": [],
   "source": [
    "A = np.array([[1,2,3,4],[5,6,7,8],[9,10,11,12]])  # 3 x 4 matrix\n",
    "print (A)"
   ]
  },
  {
   "cell_type": "code",
   "execution_count": null,
   "metadata": {},
   "outputs": [],
   "source": [
    "# Access the entry at row index 1 and column index 2 \n",
    "A[1,2] # I will omit the print() statement several times from now on"
   ]
  },
  {
   "cell_type": "code",
   "execution_count": null,
   "metadata": {},
   "outputs": [],
   "source": [
    "# Access the row at index 2\n",
    "A[2,:] # equivalent to A[2, 0:4]"
   ]
  },
  {
   "cell_type": "code",
   "execution_count": null,
   "metadata": {},
   "outputs": [],
   "source": [
    "# Access the column at index 1\n",
    "A[0:1,1]"
   ]
  },
  {
   "cell_type": "markdown",
   "metadata": {},
   "source": [
    "Arithmetic operations are performed element wise on NumPy arrays"
   ]
  },
  {
   "cell_type": "code",
   "execution_count": null,
   "metadata": {},
   "outputs": [],
   "source": [
    "A * 2"
   ]
  },
  {
   "cell_type": "code",
   "execution_count": null,
   "metadata": {},
   "outputs": [],
   "source": [
    "A / 2"
   ]
  },
  {
   "cell_type": "code",
   "execution_count": null,
   "metadata": {},
   "outputs": [],
   "source": [
    "A ** 2  # does not mean matrix product A^2 "
   ]
  },
  {
   "cell_type": "code",
   "execution_count": null,
   "metadata": {},
   "outputs": [],
   "source": [
    "# _like generates an array of ones of the same size as A\n",
    "print (np.ones_like(A)) \n",
    "print ('')\n",
    "print (A + np.ones_like(A))"
   ]
  },
  {
   "cell_type": "markdown",
   "metadata": {},
   "source": [
    "1D arrays behave exactly the same way"
   ]
  },
  {
   "cell_type": "code",
   "execution_count": null,
   "metadata": {},
   "outputs": [],
   "source": [
    "a = np.array([1,2,3,4,5])\n",
    "print (a,'\\n')\n",
    "print (a[1],'\\n')\n",
    "print (a[2:4])"
   ]
  },
  {
   "cell_type": "code",
   "execution_count": null,
   "metadata": {},
   "outputs": [],
   "source": [
    "print (a*2)\n",
    "print (a**2)\n",
    "print (a/2)"
   ]
  },
  {
   "cell_type": "markdown",
   "metadata": {},
   "source": [
    "We can stack arrays vertically or horizontally to make larger arrays"
   ]
  },
  {
   "cell_type": "code",
   "execution_count": null,
   "metadata": {},
   "outputs": [],
   "source": [
    "a = np.array([1,2,3])\n",
    "b = np.array([4,5,6])\n",
    "c = np.array([7,8,9])\n",
    "\n",
    "# stacking vertically\n",
    "v = np.row_stack((a,b,c)) # np.vstack has the same effect\n",
    "print (v)"
   ]
  },
  {
   "cell_type": "code",
   "execution_count": null,
   "metadata": {},
   "outputs": [],
   "source": [
    "# stacking horizontally (by column)\n",
    "h = np.column_stack((a,b,c))\n",
    "print (h)"
   ]
  },
  {
   "cell_type": "markdown",
   "metadata": {},
   "source": [
    "We can *reshape* arrays (change their shape) using a [row-major or column-major](https://en.wikipedia.org/wiki/Row-_and_column-major_order) ordering. You can think of reshaping as first raveling the array (using the given index order) and then inserting the elements from the raveled array into the new array using the same kind of index ordering as was used for the raveling."
   ]
  },
  {
   "cell_type": "code",
   "execution_count": null,
   "metadata": {},
   "outputs": [],
   "source": [
    "M = np.array([[1,1,1,1],[2,2,2,2]])\n",
    "print (M)"
   ]
  },
  {
   "cell_type": "code",
   "execution_count": null,
   "metadata": {},
   "outputs": [],
   "source": [
    "# reshape the array\n",
    "np.reshape(M, (4, 2)) # C-like row-major index ordering"
   ]
  },
  {
   "cell_type": "code",
   "execution_count": null,
   "metadata": {},
   "outputs": [],
   "source": [
    "np.reshape(M,(4,2),'F') # Fortran-like, column major index ordering"
   ]
  },
  {
   "cell_type": "markdown",
   "metadata": {},
   "source": [
    "We can also *flatten* arrays, that is, reduce multi-dimensional arrays to 1D arrays"
   ]
  },
  {
   "cell_type": "code",
   "execution_count": null,
   "metadata": {},
   "outputs": [],
   "source": [
    "print (M.flatten()) # np.ravel(M) is equivalent; can again use 'F' for column-major"
   ]
  },
  {
   "cell_type": "markdown",
   "metadata": {},
   "source": [
    "Arrays can be copied using `copy` or one can also create a `view` of the array. The view is part of the original array, and it shares the memory address with the original array. The copy (also known as \"deep copy\") is a different array altogether, occupying its own memory addresses.<br> \n",
    "It takes longer to generate than the view. Modifying a view modifies the original array, whereas modifying a copy does not modify the base array. For example, slices are views, not copies in Python; np.flatten gives a copy, while np.ravel gives a view.<br>\n",
    "\n",
    "A good article explaining views vs. copies can be found [here](https://www.jessicayung.com/numpy-views-vs-copies-avoiding-costly-mistakes/). The takeaway message is that whenever you want to edit a copy of the data but not the original, use np.copy(). This is the safest way to ensure you actually make a copy. Otherwise a view is fine and saves time and memory."
   ]
  },
  {
   "cell_type": "code",
   "execution_count": null,
   "metadata": {},
   "outputs": [],
   "source": [
    "# Creating a copy of an array:\n",
    "a = np.arange(15)\n",
    "b = np.copy(a) # an actual copy\n",
    "print (b is a)"
   ]
  },
  {
   "cell_type": "code",
   "execution_count": null,
   "metadata": {},
   "outputs": [],
   "source": [
    "# Creating a view of an array\n",
    "a = np.arange(15)\n",
    "b = a.view() # share the same data\n",
    "print (b is a)\n",
    "\n",
    "b[2] = 7 # assign 7 to the element at index 2 of b\n",
    "print (a) # the element at index 2 in a also changes"
   ]
  },
  {
   "cell_type": "markdown",
   "metadata": {},
   "source": [
    "Lastly, we can compute the sum, min / max, mean, standard devivation, etc. of the values in a NumPy array:"
   ]
  },
  {
   "cell_type": "code",
   "execution_count": null,
   "metadata": {},
   "outputs": [],
   "source": [
    "a = np.array([[1,2,3],[4,5,6]])\n",
    "print (a)\n",
    "\n",
    "print ('sum =', np.sum(a)) # a.sum() is the same\n",
    "print ('min =', np.min(a))\n",
    "print ('max =', np.max(a))\n",
    "print ('mean =', np.mean(a))\n",
    "print ('std =', np.std(a))"
   ]
  },
  {
   "cell_type": "markdown",
   "metadata": {},
   "source": [
    "Another useful concept, which you may want to explore on your own, is [creating masks](https://docs.scipy.org/doc/numpy-1.15.0/reference/maskedarray.generic.html) on arrays using NumPy."
   ]
  },
  {
   "cell_type": "markdown",
   "metadata": {},
   "source": [
    "## Matrix operations"
   ]
  },
  {
   "cell_type": "markdown",
   "metadata": {},
   "source": [
    "NumPy can compute products of vectors or matrices following the usual rules of linear algebra.<br>\n",
    "We will only discuss a few example, but refer the student to [numpy.linalg](https://docs.scipy.org/doc/numpy/reference/routines.linalg.html) for additional information.<br>\n",
    "The `@` operator can be used to carry out matrix multiplication with NumPy arrays"
   ]
  },
  {
   "cell_type": "code",
   "execution_count": null,
   "metadata": {},
   "outputs": [],
   "source": [
    "M = np.array([[0,1],[1,0]])\n",
    "print (M)"
   ]
  },
  {
   "cell_type": "code",
   "execution_count": null,
   "metadata": {},
   "outputs": [],
   "source": [
    "# matrix product\n",
    "M @ M "
   ]
  },
  {
   "cell_type": "markdown",
   "metadata": {},
   "source": [
    "The alternate function to multiply two matrices A and B is matmul(A,B)"
   ]
  },
  {
   "cell_type": "code",
   "execution_count": null,
   "metadata": {},
   "outputs": [],
   "source": [
    "np.matmul(M,M)"
   ]
  },
  {
   "cell_type": "code",
   "execution_count": null,
   "metadata": {},
   "outputs": [],
   "source": [
    "# this is different from M * M, which multiplies elementwise\n",
    "print (M*M)\n",
    "print ('')\n",
    "print (2*M)"
   ]
  },
  {
   "cell_type": "markdown",
   "metadata": {},
   "source": [
    "We can also compute the transpose and trace (for the inverse and determinant, see SciPy)"
   ]
  },
  {
   "cell_type": "code",
   "execution_count": null,
   "metadata": {},
   "outputs": [],
   "source": [
    "A = np.array([[1,2,3],[0,0,0],[3,2,1]])\n",
    "print (A)"
   ]
  },
  {
   "cell_type": "code",
   "execution_count": null,
   "metadata": {},
   "outputs": [],
   "source": [
    "# transpose\n",
    "print (A.T)"
   ]
  },
  {
   "cell_type": "code",
   "execution_count": null,
   "metadata": {},
   "outputs": [],
   "source": [
    "# trace = sum of diagonal elements\n",
    "np.trace(A)"
   ]
  },
  {
   "cell_type": "markdown",
   "metadata": {},
   "source": [
    "Similar operations are available for 1D arrays (vectors)"
   ]
  },
  {
   "cell_type": "code",
   "execution_count": null,
   "metadata": {},
   "outputs": [],
   "source": [
    "a = np.array([1,2,2])\n",
    "b = np.array([0,1,0])"
   ]
  },
  {
   "cell_type": "code",
   "execution_count": null,
   "metadata": {},
   "outputs": [],
   "source": [
    "# dot product a.b\n",
    "np.dot(a,b)"
   ]
  },
  {
   "cell_type": "code",
   "execution_count": null,
   "metadata": {},
   "outputs": [],
   "source": [
    "# norm of a vector\n",
    "np.linalg.norm(a)"
   ]
  },
  {
   "cell_type": "markdown",
   "metadata": {},
   "source": [
    "It is important to take advantage of NumPy's fast matrix / vector operations when developing algorithms."
   ]
  },
  {
   "cell_type": "markdown",
   "metadata": {},
   "source": [
    "## Functions"
   ]
  },
  {
   "cell_type": "markdown",
   "metadata": {},
   "source": [
    "All commonly used mathematical functions are available in NumPy. "
   ]
  },
  {
   "cell_type": "code",
   "execution_count": null,
   "metadata": {},
   "outputs": [],
   "source": [
    "np.cos(0)"
   ]
  },
  {
   "cell_type": "code",
   "execution_count": null,
   "metadata": {},
   "outputs": [],
   "source": [
    "np.exp(1)"
   ]
  },
  {
   "cell_type": "code",
   "execution_count": null,
   "metadata": {},
   "outputs": [],
   "source": [
    "np.log(2)"
   ]
  },
  {
   "cell_type": "markdown",
   "metadata": {},
   "source": [
    "The constants $\\pi$ and $e$ are also available:"
   ]
  },
  {
   "cell_type": "code",
   "execution_count": null,
   "metadata": {},
   "outputs": [],
   "source": [
    "np.pi"
   ]
  },
  {
   "cell_type": "code",
   "execution_count": null,
   "metadata": {},
   "outputs": [],
   "source": [
    "np.e"
   ]
  },
  {
   "cell_type": "markdown",
   "metadata": {},
   "source": [
    "Since NumPy operations act on the arrays elementwise, this gives a convenient tool to **vectorize functions**.<br>\n",
    "Mathematical functions are applied elementwise on arrays:"
   ]
  },
  {
   "cell_type": "code",
   "execution_count": null,
   "metadata": {},
   "outputs": [],
   "source": [
    "x = np.array([0,np.pi/2,np.pi]) # x_n an array of length 3\n",
    "y = np.cos(x) # an array of length 3, cos(x_n)\n",
    "print(y)"
   ]
  },
  {
   "cell_type": "markdown",
   "metadata": {},
   "source": [
    "## File I/O"
   ]
  },
  {
   "cell_type": "markdown",
   "metadata": {},
   "source": [
    "NumPy has a function called [`savetxt`](https://docs.scipy.org/doc/numpy/reference/generated/numpy.savetxt.html) to write to file and [`loadtxt`](https://docs.scipy.org/doc/numpy/reference/generated/numpy.loadtxt.html) to read from file.<br> \n",
    "Both methods write and read data columnwise, which is very useful in scientific computing."
   ]
  },
  {
   "cell_type": "code",
   "execution_count": null,
   "metadata": {},
   "outputs": [],
   "source": [
    "import numpy as np\n",
    "\n",
    "# files for storing the data\n",
    "file1 = 'sine.dat'\n",
    "file2 = 'cosine.dat'\n",
    "\n",
    "# number of points, including the end points\n",
    "npts = 101 \n",
    "\n",
    "t1 = np.linspace(0,2*np.pi,npts)  # divide the (0,2pi) into 100 intervals\n",
    "y1 = np.sin(t1)\n",
    "y2 = np.cos(t1)\n",
    "\n",
    "# write data into two columns, format data as floating point values\n",
    "np.savetxt(file1, np.transpose([t1,y1]), fmt='%9.6f') \n",
    "np.savetxt(file2, np.transpose([t1,y2]), fmt='%9.6f')\n",
    "\n",
    "# you can check these two files in the directory in which you are running this notebook"
   ]
  },
  {
   "cell_type": "code",
   "execution_count": null,
   "metadata": {},
   "outputs": [],
   "source": [
    "# Read the files we wrote in the previous cell and plot the two functions (more on this next time)\n",
    "import numpy as np\n",
    "import matplotlib.pyplot as plt\n",
    "\n",
    "# files we want to read\n",
    "file1 = 'sine.dat'\n",
    "file2 = 'cosine.dat'\n",
    "\n",
    "# read data from files\n",
    "x1, y1 = np.loadtxt(fname=file1, usecols=(0,1), dtype=np.float64, unpack=True)\n",
    "x2, y2 = np.loadtxt(fname=file2, usecols=(0,1), dtype=np.float64, unpack=True)\n",
    "\n",
    "# an alternative to the above is:\n",
    "# a1 = np.loadtxt(file1) #the file split into columns\n",
    "# x1 = a1[:,0]  # the first column\n",
    "# y1 = a1[:,1]  # the second column\n",
    "#\n",
    "# a2 = np.loadtxt(file2)\n",
    "# x2 = a2[:,0]\n",
    "# y2 = a2[:,1]\n",
    "\n",
    "# plot data (more on this later)\n",
    "plt.plot(x1,y1,'r+-',label='sine')\n",
    "plt.plot(x2,y2,'bx-',label='cosine')\n",
    "\n",
    "plt.legend()\n",
    "plt.show()"
   ]
  },
  {
   "cell_type": "code",
   "execution_count": null,
   "metadata": {},
   "outputs": [],
   "source": []
  }
 ],
 "metadata": {
  "kernelspec": {
   "display_name": "Python 3",
   "language": "python",
   "name": "python3"
  },
  "language_info": {
   "codemirror_mode": {
    "name": "ipython",
    "version": 3
   },
   "file_extension": ".py",
   "mimetype": "text/x-python",
   "name": "python",
   "nbconvert_exporter": "python",
   "pygments_lexer": "ipython3",
   "version": "3.7.2"
  }
 },
 "nbformat": 4,
 "nbformat_minor": 1
}
